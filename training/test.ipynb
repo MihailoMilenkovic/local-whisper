{
 "cells": [
  {
   "cell_type": "code",
   "execution_count": 1,
   "metadata": {},
   "outputs": [
    {
     "name": "stderr",
     "output_type": "stream",
     "text": [
      "/home/mihailo/miniconda3/envs/transformers/lib/python3.10/site-packages/tqdm/auto.py:21: TqdmWarning: IProgress not found. Please update jupyter and ipywidgets. See https://ipywidgets.readthedocs.io/en/stable/user_install.html\n",
      "  from .autonotebook import tqdm as notebook_tqdm\n"
     ]
    }
   ],
   "source": [
    "from transformers import WhisperProcessor\n",
    "import datasets\n",
    "from datasets import Audio"
   ]
  },
  {
   "cell_type": "code",
   "execution_count": 2,
   "metadata": {},
   "outputs": [],
   "source": [
    "def transliterate_cir2lat(text: str) -> str:\n",
    "    \"\"\"\n",
    "    Pretvara tekst napisan ćirilicom u latinicu\n",
    "    :param text: Tekst na ćirilici\n",
    "    :return: Tekst na latinici\n",
    "    \"\"\"\n",
    "    mappings = {\n",
    "        \"а\": \"a\",\n",
    "        \"б\": \"b\",\n",
    "        \"в\": \"v\",\n",
    "        \"г\": \"g\",\n",
    "        \"д\": \"d\",\n",
    "        \"ђ\": \"đ\",\n",
    "        \"е\": \"e\",\n",
    "        \"ж\": \"ž\",\n",
    "        \"з\": \"z\",\n",
    "        \"и\": \"i\",\n",
    "        \"ј\": \"j\",\n",
    "        \"к\": \"k\",\n",
    "        \"л\": \"l\",\n",
    "        \"љ\": \"lj\",\n",
    "        \"м\": \"m\",\n",
    "        \"н\": \"n\",\n",
    "        \"њ\": \"nj\",\n",
    "        \"о\": \"o\",\n",
    "        \"п\": \"p\",\n",
    "        \"р\": \"r\",\n",
    "        \"с\": \"s\",\n",
    "        \"т\": \"t\",\n",
    "        \"ћ\": \"ć\",\n",
    "        \"у\": \"u\",\n",
    "        \"ф\": \"f\",\n",
    "        \"х\": \"h\",\n",
    "        \"ц\": \"c\",\n",
    "        \"ч\": \"č\",\n",
    "        \"џ\": \"dž\",\n",
    "        \"ш\": \"š\",\n",
    "        \"А\": \"A\",\n",
    "        \"Б\": \"B\",\n",
    "        \"В\": \"V\",\n",
    "        \"Г\": \"G\",\n",
    "        \"Д\": \"D\",\n",
    "        \"Ђ\": \"Đ\",\n",
    "        \"Е\": \"E\",\n",
    "        \"Ж\": \"Ž\",\n",
    "        \"З\": \"Z\",\n",
    "        \"И\": \"I\",\n",
    "        \"Ј\": \"J\",\n",
    "        \"К\": \"K\",\n",
    "        \"Л\": \"L\",\n",
    "        \"Љ\": \"Lj\",\n",
    "        \"М\": \"M\",\n",
    "        \"Н\": \"N\",\n",
    "        \"Њ\": \"Nj\",\n",
    "        \"О\": \"O\",\n",
    "        \"П\": \"P\",\n",
    "        \"Р\": \"R\",\n",
    "        \"С\": \"S\",\n",
    "        \"Т\": \"T\",\n",
    "        \"Ћ\": \"Ć\",\n",
    "        \"У\": \"U\",\n",
    "        \"Ф\": \"F\",\n",
    "        \"Х\": \"H\",\n",
    "        \"Ц\": \"C\",\n",
    "        \"Ч\": \"Č\",\n",
    "        \"Џ\": \"Dž\",\n",
    "        \"Ш\": \"Š\",\n",
    "    }\n",
    "    translit = \"\"\n",
    "    for char in text:\n",
    "        if char in mappings.keys():\n",
    "            translit = translit + mappings[char]\n",
    "        else:\n",
    "            translit = translit + char\n",
    "    return translit"
   ]
  },
  {
   "cell_type": "code",
   "execution_count": 3,
   "metadata": {},
   "outputs": [],
   "source": [
    "# include serbian, bosnian and croatian\n",
    "dataset_configs_to_use = [\n",
    "    {\n",
    "        \"dataset_name\": \"mozilla-foundation/common_voice_13_0\",\n",
    "        \"languages\": [\"sr\", \"bs\", \"hr\"],\n",
    "        \"audio_column\": \"audio\",\n",
    "        \"text_column\": \"sentence\",\n",
    "    },\n",
    "    {\n",
    "        \"dataset_name\": \"facebook/voxpopuli\",\n",
    "        \"languages\": [\"hr\"],\n",
    "        \"audio_column\": \"audio\",\n",
    "        \"text_column\": \"sentence\",\n",
    "    },\n",
    "    {\n",
    "        \"dataset_name\": \"google/fleurs\",\n",
    "        \"languages\": [\"Serbian\", \"Croatian\", \"Bosnian\"],\n",
    "        \"audio_column\": \"audio\",\n",
    "        \"text_column\": \"sentence\",\n",
    "    },\n",
    "]\n",
    "processor = WhisperProcessor.from_pretrained(\n",
    "    \"openai/whisper-small\", language=\"sinhalese\", task=\"transcribe\"\n",
    ")"
   ]
  },
  {
   "cell_type": "code",
   "execution_count": 4,
   "metadata": {},
   "outputs": [
    {
     "name": "stdout",
     "output_type": "stream",
     "text": [
      "DATASETNAME: mozilla-foundation/common_voice_13_0\n"
     ]
    },
    {
     "name": "stderr",
     "output_type": "stream",
     "text": [
      "/home/mihailo/miniconda3/envs/transformers/lib/python3.10/site-packages/datasets/load.py:1429: FutureWarning: The repository for mozilla-foundation/common_voice_13_0 contains custom code which must be executed to correctly load the dataset. You can inspect the repository content at https://hf.co/datasets/mozilla-foundation/common_voice_13_0\n",
      "You can avoid this message in future by passing the argument `trust_remote_code=True`.\n",
      "Passing `trust_remote_code=True` will be mandatory to load this dataset from the next major release of `datasets`.\n",
      "  warnings.warn(\n"
     ]
    },
    {
     "ename": "",
     "evalue": "",
     "output_type": "error",
     "traceback": [
      "\u001b[1;31mThe Kernel crashed while executing code in the the current cell or a previous cell. Please review the code in the cell(s) to identify a possible cause of the failure. Click <a href='https://aka.ms/vscodeJupyterKernelCrash'>here</a> for more info. View Jupyter <a href='command:jupyter.viewOutput'>log</a> for further details."
     ]
    }
   ],
   "source": [
    "def preprocess_data(sample):\n",
    "    sample[\"text\"] = transliterate_cir2lat(sample[\"text\"])\n",
    "    return sample\n",
    "\n",
    "\n",
    "def create_dataset():\n",
    "    dataset_list = []\n",
    "    for config in dataset_configs_to_use:\n",
    "        for language in config[\"languages\"]:\n",
    "            print(\"DATASETNAME:\", config[\"dataset_name\"])\n",
    "            data = datasets.load_dataset(\n",
    "                config[\"dataset_name\"], language, split=\"train+validation+test\"\n",
    "            )\n",
    "            data = datasets.Dataset.from_dict(\n",
    "                {\n",
    "                    \"text\": data[config[\"text_column\"]],\n",
    "                    \"audio\": data[config[\"audio_column\"]],\n",
    "                }\n",
    "            )\n",
    "            sampling_rate = processor.feature_extractor.sampling_rate()\n",
    "            data = data.cast_column(\"audio\", Audio(sampling_rate=sampling_rate))\n",
    "            new_data = data.map(\n",
    "                preprocess_data,\n",
    "                input_columns=[config[\"audio_column\"], config[\"text_column\"]],\n",
    "            )\n",
    "            dataset_list.append(new_data)\n",
    "\n",
    "    new_dataset = datasets.concatenate_datasets(dataset_list)\n",
    "    new_dataset = new_dataset.shuffle(seed=42)\n",
    "    return new_dataset\n",
    "\n",
    "\n",
    "dataset = create_dataset()"
   ]
  },
  {
   "cell_type": "code",
   "execution_count": null,
   "metadata": {},
   "outputs": [],
   "source": [
    "dataset.save_to_disk(\"test_data\")"
   ]
  }
 ],
 "metadata": {
  "kernelspec": {
   "display_name": "Python 3",
   "language": "python",
   "name": "python3"
  },
  "language_info": {
   "codemirror_mode": {
    "name": "ipython",
    "version": 3
   },
   "file_extension": ".py",
   "mimetype": "text/x-python",
   "name": "python",
   "nbconvert_exporter": "python",
   "pygments_lexer": "ipython3",
   "version": "3.10.13"
  }
 },
 "nbformat": 4,
 "nbformat_minor": 2
}
